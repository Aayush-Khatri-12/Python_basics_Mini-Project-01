{
  "nbformat": 4,
  "nbformat_minor": 0,
  "metadata": {
    "colab": {
      "provenance": [],
      "authorship_tag": "ABX9TyMzorkcAZUZLO7hdshx9F8V",
      "include_colab_link": true
    },
    "kernelspec": {
      "name": "python3",
      "display_name": "Python 3"
    },
    "language_info": {
      "name": "python"
    }
  },
  "cells": [
    {
      "cell_type": "markdown",
      "metadata": {
        "id": "view-in-github",
        "colab_type": "text"
      },
      "source": [
        "<a href=\"https://colab.research.google.com/github/Aayush-Khatri-12/Python_basics_Mini-Project-01/blob/main/Mini_Project_01.ipynb\" target=\"_parent\"><img src=\"https://colab.research.google.com/assets/colab-badge.svg\" alt=\"Open In Colab\"/></a>"
      ]
    },
    {
      "cell_type": "markdown",
      "source": [
        "# Subset Selection Problem"
      ],
      "metadata": {
        "id": "dDnQBo5rK8ML"
      }
    },
    {
      "cell_type": "markdown",
      "source": [
        "# 1. Problem Statement:\n",
        "Find all the subsets from a set of numbers whose sum is zero.\n",
        "\n",
        "Constraint: Subset size must be 5\n",
        "\n",
        "Set={-12, -3, -6, 7, 2, -2, 6, 3, 9, -7, -5, -8, 1, 11, -9, -4}\n"
      ],
      "metadata": {
        "id": "QAIlGh_5LRiN"
      }
    },
    {
      "cell_type": "code",
      "source": [
        "import random as r\n",
        "S=[-12, -3, -6, 7, 2, -2, 6, 3, 9, -7, -5, -8, 1, 11, -9, -4]\n",
        "temp=[]\n",
        "for i in range(100000):\n",
        "  subset=r.sample(S,5)\n",
        "  if sum(subset)==0:\n",
        "    temp.append(subset)"
      ],
      "metadata": {
        "id": "2FkDfEP9LXNt"
      },
      "execution_count": null,
      "outputs": []
    },
    {
      "cell_type": "markdown",
      "source": [
        "# 2. Problem Statement:\n",
        "\n",
        "Find all the subsets from a set of numbers whose sum is zero.\n",
        "\n",
        "Constraint: Subset size must be 3 to 6 only\n",
        "\n",
        "Set={-12, -3, -6, 7, 2, -2, 6, 3, 9, -7, -5, -8, 1, 11, -9, -4}"
      ],
      "metadata": {
        "id": "ybBZlUfpLYDC"
      }
    },
    {
      "cell_type": "code",
      "source": [
        "import random as r\n",
        "S=[-12, -3, -6, 7, 2, -2, 6, 3, 9, -7, -5, -8, 1, 11, -9, -4]\n",
        "temp=[]\n",
        "for i in range(100000):\n",
        "  n=r.randint(3,6)\n",
        "  subset=r.sample(S,n)\n",
        "  if sum(subset)==0:\n",
        "    temp.append(subset)"
      ],
      "metadata": {
        "id": "k5w0YtJwLgoR"
      },
      "execution_count": null,
      "outputs": []
    }
  ]
}